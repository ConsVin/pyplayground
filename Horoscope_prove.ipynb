{
 "cells": [
  {
   "cell_type": "markdown",
   "metadata": {},
   "source": [
    "Привет,\n",
    "\n",
    "Сегодня мы узнаем\n",
    "* Как астрология может предсказать вашу склонность к той или иной науке\n",
    "* [Поправка на множественные сравнения](https://ru.wikipedia.org/wiki/%D0%9F%D0%BE%D0%BF%D1%80%D0%B0%D0%B2%D0%BA%D0%B0_%D0%BD%D0%B0_%D0%BC%D0%BD%D0%BE%D0%B6%D0%B5%D1%81%D1%82%D0%B2%D0%B5%D0%BD%D0%BD%D1%83%D1%8E_%D0%BF%D1%80%D0%BE%D0%B2%D0%B5%D1%80%D0%BA%D1%83_%D0%B3%D0%B8%D0%BF%D0%BE%D1%82%D0%B5%D0%B7?oldformat=true)"
   ]
  },
  {
   "cell_type": "code",
   "execution_count": null,
   "metadata": {},
   "outputs": [],
   "source": []
  },
  {
   "cell_type": "code",
   "execution_count": 1,
   "metadata": {},
   "outputs": [
    {
     "name": "stdout",
     "output_type": "stream",
     "text": [
      "Zodiac Signs    12\n",
      "Faculies number 5\n"
     ]
    }
   ],
   "source": [
    "import numpy as np\n",
    "\n",
    "educations = ['cs', 'phys' ,'math','art','bio' ]\n",
    "zodiacs= [\n",
    "      'Aries'       ,'Taurus'    ,'Gemini'  , 'Cancer'  ,\n",
    "      'Leo'         ,'Virgo'     ,'Libra'   , 'Scorpio' ,\n",
    "      'Sagittarius' ,'Capricorn' ,'Aquarius', 'Pisces']\n",
    "n_zod = len(zodiacs)\n",
    "n_edu = len(educations)\n",
    "\n",
    "print(f'Zodiac Signs    {n_zod}')\n",
    "print(f'Faculies number {n_edu}')\n"
   ]
  },
  {
   "cell_type": "markdown",
   "metadata": {},
   "source": [
    "К сожалению, у меня сейчас нет возможности провести настоящий соцопрос, поэтому мы сделаем вот что.\n",
    "\n",
    "Будем использовать случайные (ну ладно, псевдослучайные) значения.\n",
    "\n",
    "Вот так мы можем сгенерировать строку целых чисел от 0 до 3 длиной 10"
   ]
  },
  {
   "cell_type": "code",
   "execution_count": 127,
   "metadata": {},
   "outputs": [
    {
     "name": "stdout",
     "output_type": "stream",
     "text": [
      "[0 2 1 2 3 0 3 3 3 3]\n"
     ]
    }
   ],
   "source": [
    "print(np.random.randint( 3+1 ,size = 10))"
   ]
  },
  {
   "cell_type": "code",
   "execution_count": 34,
   "metadata": {},
   "outputs": [
    {
     "name": "stdout",
     "output_type": "stream",
     "text": [
      "[[ 0 10]\n",
      " [ 0  1]\n",
      " [ 0 10]\n",
      " [ 0  0]\n",
      " [ 0  6]\n",
      " [ 1  5]\n",
      " [ 1  9]\n",
      " [ 1  9]\n",
      " [ 1  1]\n",
      " [ 1 10]\n",
      " [ 2  8]\n",
      " [ 2 11]\n",
      " [ 2  0]\n",
      " [ 2  2]\n",
      " [ 2  2]\n",
      " [ 3  5]\n",
      " [ 3  6]\n",
      " [ 3 10]\n",
      " [ 3  2]\n",
      " [ 3  5]\n",
      " [ 4  6]\n",
      " [ 4  4]\n",
      " [ 4  7]\n",
      " [ 4  0]\n",
      " [ 4  5]]\n"
     ]
    }
   ],
   "source": [
    "def generate_students(n_stud=10,n_zod = n_zod, n_edu = n_edu ):\n",
    "    return np.hstack([np.vstack([np.full(n_stud,e),np.random.randint(n_zod ,size = n_stud)]) for e in range(n_edu)]).T\n",
    "\n",
    "n_stud = 5;\n",
    "students = generate_students(5);\n",
    "print(students)"
   ]
  },
  {
   "cell_type": "code",
   "execution_count": 22,
   "metadata": {},
   "outputs": [
    {
     "name": "stdout",
     "output_type": "stream",
     "text": [
      "  ID   Faculty    Zodiac\n",
      "# 0    cs     Virgo     \n",
      "# 1    cs     Cancer    \n",
      "# 2    cs     Aries     \n",
      "# 3    cs     Cancer    \n",
      "# 4    cs     Sagittarius\n",
      "# 5    phys   Pisces    \n",
      "# 6    phys   Libra     \n",
      "# 7    phys   Capricorn \n",
      "# 8    phys   Capricorn \n",
      "# 9    phys   Gemini    \n",
      "#10    math   Taurus    \n",
      "#11    math   Sagittarius\n",
      "#12    math   Gemini    \n",
      "#13    math   Taurus    \n",
      "#14    math   Virgo     \n",
      "#15    art    Sagittarius\n",
      "#16    art    Virgo     \n",
      "#17    art    Leo       \n",
      "#18    art    Virgo     \n",
      "#19    art    Libra     \n",
      "#20    bio    Cancer    \n",
      "#21    bio    Cancer    \n",
      "#22    bio    Cancer    \n",
      "#23    bio    Libra     \n",
      "#24    bio    Leo       \n"
     ]
    }
   ],
   "source": [
    "print('  ID   Faculty    Zodiac')\n",
    "for i,s in enumerate(students[:]):\n",
    "    print(f'#{i:2}    {educations[s[0]]:6} {zodiacs[s[1]]:10}')"
   ]
  },
  {
   "cell_type": "markdown",
   "metadata": {},
   "source": [
    "Подсчитаем распределение. Создадим пустую таблицу distr, где ячейке с координатами I,J будет соответсвовать число студентов с зодиаком номер I и факультетом номер J"
   ]
  },
  {
   "cell_type": "code",
   "execution_count": 29,
   "metadata": {},
   "outputs": [
    {
     "name": "stdout",
     "output_type": "stream",
     "text": [
      "[[1. 0. 0. 0. 0.]\n",
      " [0. 0. 2. 0. 0.]\n",
      " [0. 1. 1. 0. 0.]\n",
      " [2. 0. 0. 0. 3.]\n",
      " [0. 0. 0. 1. 1.]\n",
      " [1. 0. 1. 2. 0.]\n",
      " [0. 1. 0. 1. 1.]\n",
      " [0. 0. 0. 0. 0.]\n",
      " [1. 0. 1. 1. 0.]\n",
      " [0. 2. 0. 0. 0.]\n",
      " [0. 0. 0. 0. 0.]\n",
      " [0. 1. 0. 0. 0.]]\n"
     ]
    }
   ],
   "source": [
    "def calc_distr(students):\n",
    "    distr = np.zeros([n_zod,n_edu])\n",
    "    for s in students:\n",
    "        I = s[1]\n",
    "        J = s[0]\n",
    "        distr[ I , J ]+= 1\n",
    "    return distr\n",
    "print(calc_distr(students))\n",
    "\n"
   ]
  },
  {
   "cell_type": "markdown",
   "metadata": {},
   "source": [
    "Хм, получились какие цифры. "
   ]
  },
  {
   "cell_type": "markdown",
   "metadata": {},
   "source": [
    "$E = N * \\frac{1}{n_{edu}} * \\frac{1}{/n_{zod}}$"
   ]
  },
  {
   "cell_type": "code",
   "execution_count": 33,
   "metadata": {},
   "outputs": [
    {
     "ename": "NameError",
     "evalue": "name 'n_stud' is not defined",
     "output_type": "error",
     "traceback": [
      "\u001b[1;31m---------------------------------------------------------------------------\u001b[0m",
      "\u001b[1;31mNameError\u001b[0m                                 Traceback (most recent call last)",
      "\u001b[1;32m<ipython-input-33-95621a55830d>\u001b[0m in \u001b[0;36m<module>\u001b[1;34m\u001b[0m\n\u001b[1;32m----> 1\u001b[1;33m \u001b[0mexpected\u001b[0m \u001b[1;33m=\u001b[0m  \u001b[0mn_stud\u001b[0m  \u001b[1;33m*\u001b[0m \u001b[1;36m1\u001b[0m\u001b[1;33m/\u001b[0m\u001b[0mn_zod\u001b[0m\u001b[1;33m\u001b[0m\u001b[1;33m\u001b[0m\u001b[0m\n\u001b[0m\u001b[0;32m      2\u001b[0m \u001b[1;33m\u001b[0m\u001b[0m\n\u001b[0;32m      3\u001b[0m \u001b[0mprint\u001b[0m\u001b[1;33m(\u001b[0m\u001b[1;34m'Expected number of each combination %2.2f'\u001b[0m\u001b[1;33m%\u001b[0m\u001b[0mexpected\u001b[0m\u001b[1;33m)\u001b[0m\u001b[1;33m\u001b[0m\u001b[1;33m\u001b[0m\u001b[0m\n\u001b[0;32m      4\u001b[0m \u001b[0mdistr_norm\u001b[0m \u001b[1;33m=\u001b[0m \u001b[1;33m(\u001b[0m\u001b[1;33m(\u001b[0m\u001b[0mdistr\u001b[0m\u001b[1;33m/\u001b[0m\u001b[0mexpected\u001b[0m\u001b[1;33m)\u001b[0m\u001b[1;33m-\u001b[0m\u001b[1;36m1\u001b[0m\u001b[1;33m)\u001b[0m\u001b[1;33m*\u001b[0m\u001b[1;36m100\u001b[0m\u001b[1;33m\u001b[0m\u001b[1;33m\u001b[0m\u001b[0m\n\u001b[0;32m      5\u001b[0m \u001b[1;33m\u001b[0m\u001b[0m\n",
      "\u001b[1;31mNameError\u001b[0m: name 'n_stud' is not defined"
     ]
    }
   ],
   "source": [
    "expected =  n_stud  * 1/n_zod\n",
    "\n",
    "print('Expected number of each combination %2.2f'%expected)\n",
    "distr_norm = ((distr/expected)-1)*100\n",
    "\n",
    "import seaborn as sns\n",
    "import matplotlib.pyplot as plt\n",
    "plt.figure(figsize=(8,8))\n",
    "ax = sns.heatmap(distr, linewidth=1.5,annot=True,xticklabels=educations,yticklabels=zodiacs)\n",
    "\n",
    "\n",
    "plt.show()\n",
    "\n",
    "print(np.sum(distr,axis=0)*1/n_zod)\n"
   ]
  },
  {
   "cell_type": "code",
   "execution_count": null,
   "metadata": {},
   "outputs": [],
   "source": []
  }
 ],
 "metadata": {
  "kernelspec": {
   "display_name": "Python 3",
   "language": "python",
   "name": "python3"
  },
  "language_info": {
   "codemirror_mode": {
    "name": "ipython",
    "version": 3
   },
   "file_extension": ".py",
   "mimetype": "text/x-python",
   "name": "python",
   "nbconvert_exporter": "python",
   "pygments_lexer": "ipython3",
   "version": "3.7.1"
  }
 },
 "nbformat": 4,
 "nbformat_minor": 2
}
