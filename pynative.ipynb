{
 "cells": [
  {
   "cell_type": "markdown",
   "metadata": {},
   "source": [
    "https://pynative.com/python-numpy-exercise/\n",
    "    \n",
    "Question 1: Create a 4X2 integer array and Prints its attributes\n",
    "Note: element must be a type of unsigned int16. And print the following Attributes: –\n",
    "\n",
    "The shape of an array.\n",
    "Array dimensions.\n",
    "The Length of each element of the array in bytes.\n",
    "\n",
    "    "
   ]
  },
  {
   "cell_type": "code",
   "execution_count": 47,
   "metadata": {},
   "outputs": [
    {
     "name": "stdout",
     "output_type": "stream",
     "text": [
      "[[   0    0]\n",
      " [   0    0]\n",
      " [   0 1340]\n",
      " [   0    0]]\n",
      "Dimensions       2\n",
      "Shape            (4, 2)\n",
      "Element length   8\n"
     ]
    }
   ],
   "source": [
    "import numpy as np\n",
    "\n",
    "# empty, unlike zeros, does not set the array values to zero, \n",
    "# and may therefore be marginally faster. \n",
    "# On the other hand, it requires the user to manually set all the values in the array, \n",
    "# and should be used with caution.\n",
    "\n",
    "x = np.empty([4,2], dtype = np.uint64) \n",
    "print(x)\n",
    "print(\"Dimensions       {:0d}\".format(x.ndim))\n",
    "print(\"Shape            \"+ str(x.shape))\n",
    "print(\"Element length   {:0d}\" .format(x.itemsize))\n",
    "\n"
   ]
  },
  {
   "cell_type": "code",
   "execution_count": 51,
   "metadata": {},
   "outputs": [
    {
     "name": "stdout",
     "output_type": "stream",
     "text": [
      "[[100 110]\n",
      " [120 130]\n",
      " [140 150]\n",
      " [160 170]\n",
      " [180 190]]\n"
     ]
    }
   ],
   "source": [
    "# Question 2: Create a 5X2 integer array from a range between 100 to 200 such that the difference between each element is 10\n",
    "x = np.reshape( np.arange(100,200,10),(5,2))\n",
    "print(x)"
   ]
  },
  {
   "cell_type": "code",
   "execution_count": 56,
   "metadata": {},
   "outputs": [
    {
     "name": "stdout",
     "output_type": "stream",
     "text": [
      "[[11 22 33]\n",
      " [44 55 66]\n",
      " [77 88 99]]\n",
      "--------------------\n",
      "[22 55 88]\n"
     ]
    }
   ],
   "source": [
    "#Question 3: Following is the provided numPy array. return array of items in the third column from all rows\n",
    "import numpy\n",
    "sampleArray = numpy.array([[11 ,22, 33], [44, 55, 66], [77, 88, 99]])\n",
    "print(sampleArray)\n",
    "print('-'*20)\n",
    "print(sampleArray[:,1])"
   ]
  },
  {
   "cell_type": "code",
   "execution_count": 68,
   "metadata": {},
   "outputs": [
    {
     "name": "stdout",
     "output_type": "stream",
     "text": [
      "[[ 3  6  9 12]\n",
      " [15 18 21 24]\n",
      " [27 30 33 36]\n",
      " [39 42 45 48]\n",
      " [51 54 57 60]]\n",
      "------------------------------------------------------------------------------------------\n",
      "[[ 6 12]\n",
      " [30 36]\n",
      " [54 60]]\n"
     ]
    }
   ],
   "source": [
    "#  Question 4: Following is the given numpy array return array of odd rows and even columns\n",
    "sampleArray = np.array([[3 ,6, 9, 12], [15 ,18, 21, 24], \n",
    "[27 ,30, 33, 36], [39 ,42, 45, 48], [51 ,54, 57, 60]])\n",
    "\n",
    "print(sampleArray)\n",
    "print('-'*90)\n",
    "print(sampleArray[::2,1::2])"
   ]
  },
  {
   "cell_type": "code",
   "execution_count": 75,
   "metadata": {},
   "outputs": [
    {
     "name": "stdout",
     "output_type": "stream",
     "text": [
      "[[4.472 6.245 5.745]\n",
      " [5.    5.    5.292]]\n"
     ]
    }
   ],
   "source": [
    "# Question 5: Add the following two NumPy arrays and Modify a result array by calculating the square root of each element\n",
    "\n",
    "x0 = np.array([[5, 6, 9], [21 ,18, 27]])\n",
    "x1 = np.array([[15 ,33, 24], [4 ,7, 1]])\n",
    "np.set_printoptions(precision=3)\n",
    "print(np.sqrt(x0 + x1))\n"
   ]
  },
  {
   "cell_type": "code",
   "execution_count": 90,
   "metadata": {},
   "outputs": [
    {
     "name": "stdout",
     "output_type": "stream",
     "text": [
      "Array 1\n",
      "[[10 11 12]\n",
      " [13 14 15]]\n",
      "\n",
      "Array 2\n",
      "[[16 17 18]\n",
      " [19 20 21]]\n",
      "\n",
      "Array 3\n",
      "[[22 23 24]\n",
      " [25 26 27]]\n",
      "\n",
      "Array 4\n",
      "[[28 29 30]\n",
      " [31 32 33]]\n",
      "\n"
     ]
    }
   ],
   "source": [
    "# Question 6: Split the array into four equal-sized sub-arrays\n",
    "t,w,s = 10,8,3\n",
    "x =  np.reshape(np.arange(t,t+w*s,1),(w,s))\n",
    "arr_list=np.split(x,4)\n",
    "for i,a in enumerate(arr_list):\n",
    "    print('Array %d'%(i+1))\n",
    "    print(a)\n",
    "    print('')\n"
   ]
  },
  {
   "cell_type": "code",
   "execution_count": 112,
   "metadata": {},
   "outputs": [
    {
     "name": "stdout",
     "output_type": "stream",
     "text": [
      "[[34 43 73]\n",
      " [82 22 12]\n",
      " [53 94 66]]\n",
      "--------------------\n",
      "[82 22 12]\n",
      "[43 22 94]\n",
      "--------------------\n",
      "By second col\n",
      "[[82 22 12]\n",
      " [34 43 73]\n",
      " [53 94 66]]\n",
      "By second row\n",
      "[[73 43 34]\n",
      " [12 22 82]\n",
      " [66 94 53]]\n"
     ]
    }
   ],
   "source": [
    "# Question 7; Sort following NumPy array\n",
    "# 7.1- by the second row and\n",
    "# 7.2-by the second column\n",
    "\n",
    "x = np.array([[34,43,73],[82,22,12],[53,94,66]])\n",
    "print(x)\n",
    "print('-'*20)\n",
    "second_row = x[1,:] \n",
    "second_col = x[:,1]\n",
    "print(second_row)\n",
    "print(second_col)\n",
    "print('-'*20)\n",
    "print('By second col')\n",
    "print(x[np.argsort(x[:,1]),  :])\n",
    "print('By second row')\n",
    "print(x[:,np.argsort(x[1,:])])\n",
    "\n"
   ]
  },
  {
   "cell_type": "code",
   "execution_count": 119,
   "metadata": {},
   "outputs": [
    {
     "name": "stdout",
     "output_type": "stream",
     "text": [
      "[[34 43 73]\n",
      " [82 22 12]\n",
      " [53 94 66]]\n",
      "--------------------\n",
      "Min in each row [34 12 53]\n",
      "Max in each col [82 94 73]\n"
     ]
    }
   ],
   "source": [
    "# Question 8: Following is the 2-D array. Print max from axis 0 and min from axis 1\n",
    "x = np.array([[34,43,73],[82,22,12],[53,94,66]])\n",
    "print(x)\n",
    "print('-'*20)\n",
    "print('Min in each row '+str(np.amin(x,1)))\n",
    "print('Max in each col '+str(np.amax(x,0)))"
   ]
  },
  {
   "cell_type": "code",
   "execution_count": 142,
   "metadata": {},
   "outputs": [
    {
     "name": "stdout",
     "output_type": "stream",
     "text": [
      "[22 20 14 17 43 14 24 17 46  5 46 22 29 44  9 19 35 32 44 22 40 34 25  5\n",
      " 29 12 16 36 18 16 49 33 21  3 33 25 43 36 34 44 29 47 31  8 30 43 36 42\n",
      " 15 37]\n"
     ]
    },
    {
     "data": {
      "image/png": "[encoded data removed]",
      "text/plain": [
       "<Figure size 432x288 with 1 Axes>"
      ]
     },
     "metadata": {
      "needs_background": "light"
     },
     "output_type": "display_data"
    }
   ],
   "source": [
    "#  Question 10: Create a two 2-D array and Plot it using matplotlib\n",
    "import matplotlib.pyplot as plt\n",
    "\n",
    "\n",
    "x0 = np.random.randint(50 , size=(2,50))\n",
    "x1 = np.random.randint(100, size=(2,50))\n",
    "print(x0[0,:])\n",
    "plt.scatter(x0[0,:],x0[1,:],label='First')\n",
    "plt.scatter(x1[0,:],x1[1,:],label='Second')\n",
    "plt.legend()\n",
    "plt.show()\n"
   ]
  },
  {
   "cell_type": "markdown",
   "metadata": {},
   "source": [
    "# Linear Algebra Basics\n",
    "\n",
    "* https://web.stanford.edu/class/cs231a/section/section1.pdf\n",
    "* http://cs231n.github.io/python-numpy-tutorial/#numpy-math\n",
    "* [RU] https://habr.com/ru/post/439576/\n",
    "* [RU] https://tproger.ru/translations/python-developer-interview-guide/#part0\n",
    "\n",
    "\n",
    "\n"
   ]
  },
  {
   "cell_type": "code",
   "execution_count": 233,
   "metadata": {},
   "outputs": [
    {
     "name": "stdout",
     "output_type": "stream",
     "text": [
      "Basic Matrix and Vectors\n",
      "\n",
      "\n",
      "Before\n",
      "[[1 2 3 1 2 3 1 2 3]\n",
      " [4 5 6 4 5 6 4 5 6]\n",
      " [1 2 3 1 2 3 1 2 3]\n",
      " [4 5 6 4 5 6 4 5 6]]\n",
      "\n",
      "\n",
      "After\n",
      "[[   1    2    3    1    2  503    1    2    3]\n",
      " [ 100   55   66   78   17  849   89  100   61]\n",
      " [   1    2    3    1    2  903    1    2    3]\n",
      " [   4    5    6    4    5 4206    4    5    6]]\n",
      "\n",
      "\n",
      "Random Matrix\n",
      "[[0.581 0.871 0.66 ]\n",
      " [0.731 0.444 0.849]]\n",
      "\n",
      "\n",
      "V-Stacked Matrix\n",
      "[[0.581 0.871 0.66 ]\n",
      " [0.731 0.444 0.849]\n",
      " [1.    2.    3.   ]\n",
      " [4.    5.    6.   ]]\n",
      "\n",
      "\n",
      "H-Stacked Matrix\n",
      "[[0.581 0.871 0.66  1.    2.    3.   ]\n",
      " [0.731 0.444 0.849 4.    5.    6.   ]]\n"
     ]
    }
   ],
   "source": [
    "print('Basic Matrix and Vectors')\n",
    "import numpy as np\n",
    "t = np.array( [ [1,2,3],[4,5,6]])\n",
    "M = np.tile(t,(2,3))\n",
    "\n",
    "\n",
    "v = np.random.randint(100,size=(M.shape[1]))\n",
    "w = np.array([5,8,9,42])*100\n",
    "print('\\n'*2+'Before')\n",
    "print(M)\n",
    "print('\\n'*2+'After')\n",
    "M[1,:]+=v\n",
    "M[:,5]+=w.T\n",
    "print(M)\n",
    "print('\\n'*2+'Random Matrix')\n",
    "r=np.random.random(t.shape);\n",
    "print(r)\n",
    "print('\\n'*2+'V-Stacked Matrix')\n",
    "print(np.vstack([r,t]))\n",
    "print('\\n'*2+'H-Stacked Matrix')\n",
    "print(np.hstack([r,t]))"
   ]
  },
  {
   "cell_type": "code",
   "execution_count": 246,
   "metadata": {},
   "outputs": [
    {
     "name": "stdout",
     "output_type": "stream",
     "text": [
      "[[ 3  0  2]\n",
      " [ 2  0 -2]\n",
      " [ 0  1  1]]\n",
      "[[-0.951  0.23  -0.205]\n",
      " [-0.287 -0.904  0.317]\n",
      " [-0.112  0.361  0.926]]\n",
      "[3.72  2.879 0.934]\n",
      "[[-0.922 -0.03  -0.387]\n",
      " [-0.388  0.125  0.913]\n",
      " [ 0.021  0.992 -0.127]]\n",
      "[[-0.261  0.02   1.926]\n",
      " [ 1.586  0.326 -2.271]\n",
      " [ 0.009 -0.03   1.11 ]]\n"
     ]
    }
   ],
   "source": [
    "# Matrix multiplication and SVD\n",
    "M = np.array([[3,0,2],[2,0,-2],[0,1,1]])\n",
    "print(M)\n",
    "\n",
    "U,S,Vt = np.linalg.svd(M)\n",
    "print(U)\n",
    "print(S)\n",
    "print(Vt)\n",
    "\n",
    "M_svd = U*S*Vt; \n",
    "print(M-M_svd)"
   ]
  },
  {
   "cell_type": "markdown",
   "metadata": {},
   "source": [
    "# Habr Tasks"
   ]
  },
  {
   "cell_type": "code",
   "execution_count": 247,
   "metadata": {},
   "outputs": [
    {
     "name": "stdout",
     "output_type": "stream",
     "text": [
      "['bill', 'com', 'mother']\n"
     ]
    }
   ],
   "source": [
    "\n",
    "# 1. Read words from file\n",
    "# 2. Show the most popular triple, order doesn't matter\n",
    "from collections import Counter\n",
    "\n",
    "\n",
    "fname='word_triples.txt'\n",
    "words = open(fname,'r').readline().split()\n",
    "\n",
    "sep='####'\n",
    "triples=[sep.join(sorted(words[i:i+3])) for i,w in enumerate(words[:-2])]\n",
    "most_popular = (Counter(triples).most_common(1)[0][0]).split(sep)\n",
    "print(most_popular)"
   ]
  },
  {
   "cell_type": "markdown",
   "metadata": {},
   "source": [
    "# TProger\n",
    "https://tproger.ru/problems/python-3-exercises-for-beginners-geekbrains/"
   ]
  },
  {
   "cell_type": "code",
   "execution_count": 21,
   "metadata": {},
   "outputs": [
    {
     "name": "stdout",
     "output_type": "stream",
     "text": [
      "--------------------\n",
      "Task 1\n",
      "Find all bellow 5\n",
      "[1, 1, 2, 3]\n",
      "[1, 1, 2, 3]\n",
      "[1, 1, 2, 3]\n",
      "--------------------\n",
      "Task 1\n",
      "Return intersection\n",
      "[1, 1, 2, 3, 5, 8, 13, 21, 34, 55, 89]\n",
      "[1, 2, 3, 4, 5, 6, 7, 8, 9, 10, 11, 12, 13]\n",
      "[1, 1, 2, 3, 5, 8, 13]\n",
      "--------------------\n",
      "Task 3\n",
      "Mick       :    42\n",
      "Bob        :    13\n",
      "Rex        :     9\n",
      "Fluffy     :     5\n",
      "Rocky      :     1\n"
     ]
    }
   ],
   "source": [
    "import numpy as np\n",
    "\n",
    "print('-'*20)\n",
    "print('Task 1')\n",
    "print('Find all bellow 5')\n",
    "a = [1, 1, 2, 3, 5, 8, 13, 21, 34, 55, 89];\n",
    "\n",
    "# Numpy\n",
    "a_np = np.array(a)\n",
    "s = list(a_np[a_np<5])\n",
    "print(s)\n",
    "s=[]\n",
    "\n",
    "\n",
    "# One line\n",
    "s = [i for i in a if i<5]\n",
    "print(s)\n",
    "s=[]\n",
    "\n",
    "# Map, Filter and Reduce\n",
    "# https://book.pythontips.com/en/latest/map_filter.html\n",
    "print([*filter(lambda x: x<5, a)])\n",
    "\n",
    "print('-'*20)\n",
    "print('Task 1')\n",
    "print('Return intersection')\n",
    "a = [1, 1, 2, 3, 5, 8, 13, 21, 34, 55, 89];\n",
    "b = [1, 2, 3, 4, 5, 6, 7, 8, 9, 10, 11, 12, 13];\n",
    "print(a)\n",
    "print(b)\n",
    "print([*filter(lambda x: x in b, a)])\n",
    "\n",
    "print('-'*20)\n",
    "print('Task 3')\n",
    "pets = {'Fluffy': {'age' : 5, 'height' : 15},\n",
    "        'Rocky' : {'age' : 1, 'height' : 7},\n",
    "        'Bob'   : {'age' : 13,'height' : 20},\n",
    "        'Mick'  : {'age' : 42,'height' :  0},\n",
    "        'Rex'   : {'age' : 9, 'height' : 18}}\n",
    "\n",
    "rez = sorted(pets.items() ,  key=lambda x: x[1]['age'], reverse=True)\n",
    "[print(f'{r[0]:10} : {r[1][\"age\"]:5}') for r in rez];\n",
    "\n"
   ]
  },
  {
   "cell_type": "code",
   "execution_count": 31,
   "metadata": {},
   "outputs": [
    {
     "name": "stdout",
     "output_type": "stream",
     "text": [
      "Task 4, merge dictionaries\n",
      "[1, 2, 3, 4, 5]\n"
     ]
    }
   ],
   "source": [
    "print('Task 4, merge dictionaries')\n",
    "dict_a = {1:10, 2:20}\n",
    "dict_b = {3:30, 4:40}\n",
    "dict_c = {5:50, 3:60}\n",
    "\n",
    "z = {**dict_a,\n",
    "     **dict_b,\n",
    "     **dict_c}\n",
    "print([*z])"
   ]
  },
  {
   "cell_type": "code",
   "execution_count": 49,
   "metadata": {},
   "outputs": [
    {
     "name": "stdout",
     "output_type": "stream",
     "text": [
      "['b', 'e', 'c']\n",
      "b => 5874\n",
      "e => 5874\n",
      "c => 560\n"
     ]
    }
   ],
   "source": [
    "# Task 5, find 3 keys with the highest values\n",
    "my_dict = {'a':500, 'b':5874, 'c': 560,'d':400, 'e':5874, 'f': 20};\n",
    "\n",
    "from heapq import nlargest\n",
    "print( nlargest(3, my_dict, key = my_dict.get ))\n",
    "\n",
    "[print(f'{t[0]} => {t[1]}') for t in sorted(my_dict.items() ,  key=lambda x: x[1], reverse=True)[:3]];"
   ]
  },
  {
   "cell_type": "code",
   "execution_count": 97,
   "metadata": {},
   "outputs": [
    {
     "name": "stdout",
     "output_type": "stream",
     "text": [
      "[1]\n",
      "[1, 1]\n",
      "[1, 2, 1]\n",
      "[1, 3, 3, 1]\n",
      "[1, 4, 6, 4, 1]\n",
      "[1, 5, 10, 10, 5, 1]\n",
      "[1, 6, 15, 20, 15, 6, 1]\n",
      "[1, 7, 21, 35, 35, 21, 7, 1]\n",
      "[1, 8, 28, 56, 70, 56, 28, 8, 1]\n",
      "[1, 9, 36, 84, 126, 126, 84, 36, 9, 1]\n",
      "[1, 10, 45, 120, 210, 252, 210, 120, 45, 10, 1]\n",
      "[1, 11, 55, 165, 330, 462, 462, 330, 165, 55, 11, 1]\n",
      "[1, 12, 66, 220, 495, 792, 924, 792, 495, 220, 66, 12, 1]\n",
      "[1, 13, 78, 286, 715, 1287, 1716, 1716, 1287, 715, 286, 78, 13, 1]\n",
      "[1, 14, 91, 364, 1001, 2002, 3003, 3432, 3003, 2002, 1001, 364, 91, 14, 1]\n",
      "[1, 15, 105, 455, 1365, 3003, 5005, 6435, 6435, 5005, 3003, 1365, 455, 105, 15, 1]\n",
      "[1, 16, 120, 560, 1820, 4368, 8008, 11440, 12870, 11440, 8008, 4368, 1820, 560, 120, 16, 1]\n",
      "[1, 17, 136, 680, 2380, 6188, 12376, 19448, 24310, 24310, 19448, 12376, 6188, 2380, 680, 136, 17, 1]\n",
      "[1, 18, 153, 816, 3060, 8568, 18564, 31824, 43758, 48620, 43758, 31824, 18564, 8568, 3060, 816, 153, 18, 1]\n",
      "[1, 19, 171, 969, 3876, 11628, 27132, 50388, 75582, 92378, 92378, 75582, 50388, 27132, 11628, 3876, 969, 171, 19, 1]\n",
      "[1]\n",
      "[1, 1]\n",
      "[1, 2, 1]\n",
      "[1, 3, 3, 1]\n",
      "[1, 4, 6, 4, 1]\n",
      "[1, 5, 10, 10, 5, 1]\n",
      "[1, 6, 15, 20, 15, 6, 1]\n",
      "[1, 7, 21, 35, 35, 21, 7, 1]\n",
      "[1, 8, 28, 56, 70, 56, 28, 8, 1]\n",
      "[1, 9, 36, 84, 126, 126, 84, 36, 9, 1]\n",
      "[1, 10, 45, 120, 210, 252, 210, 120, 45, 10, 1]\n",
      "[1, 11, 55, 165, 330, 462, 462, 330, 165, 55, 11, 1]\n",
      "[1, 12, 66, 220, 495, 792, 924, 792, 495, 220, 66, 12, 1]\n",
      "[1, 13, 78, 286, 715, 1287, 1716, 1716, 1287, 715, 286, 78, 13, 1]\n",
      "[1, 14, 91, 364, 1001, 2002, 3003, 3432, 3003, 2002, 1001, 364, 91, 14, 1]\n",
      "[1, 15, 105, 455, 1365, 3003, 5005, 6435, 6435, 5005, 3003, 1365, 455, 105, 15, 1]\n",
      "[1, 16, 120, 560, 1820, 4368, 8008, 11440, 12870, 11440, 8008, 4368, 1820, 560, 120, 16, 1]\n",
      "[1, 17, 136, 680, 2380, 6188, 12376, 19448, 24310, 24310, 19448, 12376, 6188, 2380, 680, 136, 17, 1]\n",
      "[1, 18, 153, 816, 3060, 8568, 18564, 31824, 43758, 48620, 43758, 31824, 18564, 8568, 3060, 816, 153, 18, 1]\n",
      "[1, 19, 171, 969, 3876, 11628, 27132, 50388, 75582, 92378, 92378, 75582, 50388, 27132, 11628, 3876, 969, 171, 19, 1]\n"
     ]
    }
   ],
   "source": [
    "# Print Pascl Triangle\n",
    "from itertools import tee\n",
    "def pascal_foo(K):\n",
    "    triangle = [[0,1,0]];\n",
    "    for i in range(K):\n",
    "        row=triangle[-1]\n",
    "        t= [0]+[sum(row[i:i+2]) for i in range(len(row)-1)]+[0]\n",
    "        triangle.append(t)\n",
    "    [print(r[1:-1]) for r in triangle];\n",
    "pascal_foo(19)\n",
    "\n",
    "\n",
    "def pascal_boo(K):\n",
    "    tri=[[1]];\n",
    "    for i in range(K):\n",
    "        row = [a+b for a,b in zip( [0]+tri[-1],tri[-1]+[0] )]\n",
    "        tri.append(row)\n",
    "    [print(r) for r in tri];\n",
    "pascal_boo(19)    \n",
    "    "
   ]
  },
  {
   "cell_type": "code",
   "execution_count": null,
   "metadata": {},
   "outputs": [],
   "source": []
  },
  {
   "cell_type": "code",
   "execution_count": 104,
   "metadata": {},
   "outputs": [
    {
     "name": "stdout",
     "output_type": "stream",
     "text": [
      "['aaaa', 'aba', 'avva']\n"
     ]
    }
   ],
   "source": [
    "# Task 8\n",
    "# Palyndrom check\n",
    "words = ['aaaa','aba','abc','avva','av']\n",
    "print([*filter(lambda x: x==x[::-1], words)])\n"
   ]
  },
  {
   "cell_type": "code",
   "execution_count": 112,
   "metadata": {},
   "outputs": [
    {
     "data": {
      "text/plain": [
       "615"
      ]
     },
     "execution_count": 112,
     "metadata": {},
     "output_type": "execute_result"
    }
   ],
   "source": [
    "#Given  n calc n + nn + nnn.\n",
    "n = 5;\n",
    "o = 3;\n",
    "\n",
    "sum([int('1'*(i+1))*n for i in range(o)])"
   ]
  },
  {
   "cell_type": "markdown",
   "metadata": {},
   "source": [
    "# N-Queens Problem\n",
    "\n",
    "https://en.wikipedia.org/wiki/Eight_queens_puzzle"
   ]
  },
  {
   "cell_type": "code",
   "execution_count": null,
   "metadata": {},
   "outputs": [],
   "source": []
  },
  {
   "cell_type": "code",
   "execution_count": null,
   "metadata": {},
   "outputs": [],
   "source": []
  },
  {
   "cell_type": "code",
   "execution_count": null,
   "metadata": {},
   "outputs": [],
   "source": []
  }
 ],
 "metadata": {
  "kernelspec": {
   "display_name": "Python 3",
   "language": "python",
   "name": "python3"
  },
  "language_info": {
   "codemirror_mode": {
    "name": "ipython",
    "version": 3
   },
   "file_extension": ".py",
   "mimetype": "text/x-python",
   "name": "python",
   "nbconvert_exporter": "python",
   "pygments_lexer": "ipython3",
   "version": "3.7.1"
  }
 },
 "nbformat": 4,
 "nbformat_minor": 2
}
