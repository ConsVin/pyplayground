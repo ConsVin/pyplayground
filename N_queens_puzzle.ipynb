{
 "cells": [
  {
   "cell_type": "markdown",
   "metadata": {},
   "source": [
    "# N-Queens Problem\n",
    "https://en.wikipedia.org/wiki/Eight_queens_puzzle"
   ]
  },
  {
   "cell_type": "code",
   "execution_count": 15,
   "metadata": {},
   "outputs": [],
   "source": [
    "N_max = 12"
   ]
  },
  {
   "cell_type": "code",
   "execution_count": null,
   "metadata": {},
   "outputs": [],
   "source": []
  },
  {
   "cell_type": "code",
   "execution_count": 44,
   "metadata": {},
   "outputs": [
    {
     "name": "stdout",
     "output_type": "stream",
     "text": [
      "For board size 1 Found : 1 solutions\n",
      "---\n",
      "|♖|\n",
      "---\n",
      "For board size 2 Found : 0 solutions\n",
      "For board size 3 Found : 0 solutions\n",
      "For board size 4 Found : 2 solutions\n",
      "---------\n",
      "|. ♖ . .|\n",
      "|. . . ♖|\n",
      "|♖ . . .|\n",
      "|. . ♖ .|\n",
      "---------\n",
      "For board size 5 Found : 10 solutions\n",
      "-----------\n",
      "|♖ . . . .|\n",
      "|. . ♖ . .|\n",
      "|. . . . ♖|\n",
      "|. ♖ . . .|\n",
      "|. . . ♖ .|\n",
      "-----------\n"
     ]
    }
   ],
   "source": [
    "from itertools import permutations\n",
    "import numpy as np\n",
    "\n",
    "def get_diagonals_table(W):\n",
    "    diag  = np.eye(W*2-1,dtype=bool)\n",
    "    cross = np.vstack([np.where(diag + diag[:,::-1])]).T-(W-1)\n",
    "    diags = []\n",
    "    for i in range(W):\n",
    "        row=[]\n",
    "        for j in range(W):\n",
    "            queen = [i,j]\n",
    "            row.append( np.array([*filter(lambda x: (x>= 0).all() and (x<W).all(), cross +  queen )]))\n",
    "        diags.append(row)\n",
    "    return diags\n",
    "\n",
    "def find_n_queens_solutions(W):\n",
    "    diags = get_diagonals_table(W);\n",
    "    permuts = permutations(range(W))\n",
    "    row = np.arange(W);\n",
    "    solutions=[]\n",
    "    c = 0;\n",
    "    for col in permuts:\n",
    "        a = np.array(col)\n",
    "        diff = np.abs(a[1:]-a[0:-1])\n",
    "        if (diff ==1).any():\n",
    "            conflict=True;\n",
    "        else:\n",
    "            occupied = np.full((1,2),-1)\n",
    "            for i,j in zip(range(W),col):\n",
    "                q = [i,j]\n",
    "                conflict = np.any(np.sum( occupied == q,axis=1)==2)\n",
    "                if conflict:\n",
    "                    break;\n",
    "                else:\n",
    "                    occupied = np.vstack( [occupied,diags[i][j]])\n",
    "        if not(conflict):\n",
    "            solutions.append(col)\n",
    "    return solutions\n",
    "\n",
    "def print_solution(sol,ax2=[],symb='♛'):\n",
    "#     ♖\n",
    "    L = len(sol)\n",
    "    T = np.full((L,L),'.')\n",
    "    if ax2==[]:\n",
    "        ax2=np.arange(L)\n",
    "    for i,j in zip(ax2,sol):\n",
    "        T[i,j] = symb\n",
    "    print('-'*(2*L+1))\n",
    "    [print( \"|\"+ ' '.join(r)+\"|\") for r in T];  \n",
    "    print('-'*(2*L+1))\n",
    "    \n",
    "for i in range(1,6):\n",
    "    solutions = find_n_queens_solutions(i)\n",
    "    k = len(solutions) \n",
    "    print(f'For board size {i} Found : {k} solutions' )\n",
    "    if solutions:\n",
    "        print_solution(solutions[0]);\n",
    "    "
   ]
  },
  {
   "cell_type": "code",
   "execution_count": 17,
   "metadata": {},
   "outputs": [
    {
     "name": "stdout",
     "output_type": "stream",
     "text": [
      "\n",
      "#0 Source\n",
      "-----------------------\n",
      "|Q . . . . . . . . . .|\n",
      "|. . Q . . . . . . . .|\n",
      "|. . . . . . Q . . . .|\n",
      "|. . . . . . . . . Q .|\n",
      "|. Q . . . . . . . . .|\n",
      "|. . . . . . . . Q . .|\n",
      "|. . . . . Q . . . . .|\n",
      "|. . . Q . . . . . . .|\n",
      "|. . . . . . . . . . Q|\n",
      "|. . . . . . . Q . . .|\n",
      "|. . . . Q . . . . . .|\n",
      "-----------------------\n",
      "#1 Flip Horizontal\n",
      "-----------------------\n",
      "|Q . . . . . . . . . .|\n",
      "|. . . . Q . . . . . .|\n",
      "|. Q . . . . . . . . .|\n",
      "|. . . . . . . Q . . .|\n",
      "|. . . . . . . . . . Q|\n",
      "|. . . . . . Q . . . .|\n",
      "|. . Q . . . . . . . .|\n",
      "|. . . . . . . . . Q .|\n",
      "|. . . . . Q . . . . .|\n",
      "|. . . Q . . . . . . .|\n",
      "|. . . . . . . . Q . .|\n",
      "-----------------------\n",
      "#2 Flip Vertical\n",
      "-----------------------\n",
      "|. . Q . . . . . . . .|\n",
      "|. . . . . . . Q . . .|\n",
      "|. . . . . Q . . . . .|\n",
      "|. Q . . . . . . . . .|\n",
      "|. . . . . . . . Q . .|\n",
      "|. . . . Q . . . . . .|\n",
      "|Q . . . . . . . . . .|\n",
      "|. . . Q . . . . . . .|\n",
      "|. . . . . . . . . Q .|\n",
      "|. . . . . . Q . . . .|\n",
      "|. . . . . . . . . . Q|\n",
      "-----------------------\n",
      "#3 Rotate 180\n",
      "-----------------------\n",
      "|. . . . Q . . . . . .|\n",
      "|. . . . . . . Q . . .|\n",
      "|. . . . . . . . . . Q|\n",
      "|. . . Q . . . . . . .|\n",
      "|. . . . . Q . . . . .|\n",
      "|. . . . . . . . Q . .|\n",
      "|. Q . . . . . . . . .|\n",
      "|. . . . . . . . . Q .|\n",
      "|. . . . . . Q . . . .|\n",
      "|. . Q . . . . . . . .|\n",
      "|Q . . . . . . . . . .|\n",
      "-----------------------\n",
      "#4 Diagonal \\ \n",
      "-----------------------\n",
      "|. . . . . . Q . . . .|\n",
      "|. . . Q . . . . . . .|\n",
      "|Q . . . . . . . . . .|\n",
      "|. . . . . . . Q . . .|\n",
      "|. . . . . Q . . . . .|\n",
      "|. . Q . . . . . . . .|\n",
      "|. . . . . . . . . Q .|\n",
      "|. Q . . . . . . . . .|\n",
      "|. . . . Q . . . . . .|\n",
      "|. . . . . . . . Q . .|\n",
      "|. . . . . . . . . . Q|\n",
      "-----------------------\n",
      "#5 Rotate 90\n",
      "-----------------------\n",
      "|. . . . . . . . Q . .|\n",
      "|. . . Q . . . . . . .|\n",
      "|. . . . . Q . . . . .|\n",
      "|. . . . . . . . . Q .|\n",
      "|. . Q . . . . . . . .|\n",
      "|. . . . . . Q . . . .|\n",
      "|. . . . . . . . . . Q|\n",
      "|. . . . . . . Q . . .|\n",
      "|. Q . . . . . . . . .|\n",
      "|. . . . Q . . . . . .|\n",
      "|Q . . . . . . . . . .|\n",
      "-----------------------\n",
      "#6 Rotate 270\n",
      "-----------------------\n",
      "|. . . . . . . . . . Q|\n",
      "|. . . . . . Q . . . .|\n",
      "|. . . . . . . . . Q .|\n",
      "|. . . Q . . . . . . .|\n",
      "|Q . . . . . . . . . .|\n",
      "|. . . . Q . . . . . .|\n",
      "|. . . . . . . . Q . .|\n",
      "|. Q . . . . . . . . .|\n",
      "|. . . . . Q . . . . .|\n",
      "|. . . . . . . Q . . .|\n",
      "|. . Q . . . . . . . .|\n",
      "-----------------------\n",
      "#7 Digonal /\n",
      "-----------------------\n",
      "|. . . . . . . . . . Q|\n",
      "|. . . . . . . . Q . .|\n",
      "|. . . . Q . . . . . .|\n",
      "|. Q . . . . . . . . .|\n",
      "|. . . . . . . . . Q .|\n",
      "|. . Q . . . . . . . .|\n",
      "|. . . . . Q . . . . .|\n",
      "|. . . . . . . Q . . .|\n",
      "|Q . . . . . . . . . .|\n",
      "|. . . Q . . . . . . .|\n",
      "|. . . . . . Q . . . .|\n",
      "-----------------------\n"
     ]
    }
   ],
   "source": [
    "def calc_symmetrical(solution):\n",
    "    c = np.array(solution)\n",
    "\n",
    "    sym = []\n",
    "    L = len(c)\n",
    "    h = np.arange(L)\n",
    "\n",
    "    sym.append([c,h])\n",
    "    sym.append([c[::-1],h])\n",
    "    sym.append([c      *-1 + L-1,h])\n",
    "    sym.append([c[::-1]*-1 + L-1,h])\n",
    "\n",
    "    sym+= [s[::-1] for s in sym]\n",
    "    sym=[np.array(s) for s in sym]\n",
    "    sym=[s[:,np.argsort(s[1,:])] for s in sym]\n",
    "    sym=[s[0] for s in sym]\n",
    "    sym = list(np.unique( np.array(sym),axis=0 ))\n",
    "    return sym\n",
    "    \n",
    "sym_group = calc_symmetrical(solutions[3])\n",
    "names = ['#0 Source',\n",
    "         '#1 Flip Horizontal',\n",
    "         '#2 Flip Vertical',\n",
    "         '#3 Rotate 180',\n",
    "         '#4 Diagonal \\\\ ',\n",
    "         '#5 Rotate 90',\n",
    "         '#6 Rotate 270',\n",
    "         '#7 Digonal /',\n",
    "         ]\n",
    "print( )\n",
    "for coord,n in zip(sym_group,names):\n",
    "    print(n)\n",
    "    print_solution(coord)"
   ]
  },
  {
   "cell_type": "code",
   "execution_count": 38,
   "metadata": {},
   "outputs": [
    {
     "ename": "KeyboardInterrupt",
     "evalue": "",
     "output_type": "error",
     "traceback": [
      "\u001b[1;31m---------------------------------------------------------------------------\u001b[0m",
      "\u001b[1;31mKeyboardInterrupt\u001b[0m                         Traceback (most recent call last)",
      "\u001b[1;32m<ipython-input-38-936cea997a03>\u001b[0m in \u001b[0;36m<module>\u001b[1;34m\u001b[0m\n\u001b[0;32m     13\u001b[0m \u001b[1;33m\u001b[0m\u001b[0m\n\u001b[0;32m     14\u001b[0m \u001b[1;33m\u001b[0m\u001b[0m\n\u001b[1;32m---> 15\u001b[1;33m \u001b[0msolutions\u001b[0m \u001b[1;33m=\u001b[0m \u001b[0mfind_n_queens_solutions\u001b[0m\u001b[1;33m(\u001b[0m\u001b[1;36m12\u001b[0m\u001b[1;33m)\u001b[0m\u001b[1;33m\u001b[0m\u001b[1;33m\u001b[0m\u001b[0m\n\u001b[0m\u001b[0;32m     16\u001b[0m \u001b[0mprint\u001b[0m\u001b[1;33m(\u001b[0m\u001b[1;34mf\"{len(solutions)} :  Total Solutions\"\u001b[0m\u001b[1;33m)\u001b[0m\u001b[1;33m\u001b[0m\u001b[1;33m\u001b[0m\u001b[0m\n\u001b[0;32m     17\u001b[0m \u001b[1;33m\u001b[0m\u001b[0m\n",
      "\u001b[1;32m<ipython-input-16-aaccd232830b>\u001b[0m in \u001b[0;36mfind_n_queens_solutions\u001b[1;34m(W)\u001b[0m\n\u001b[0;32m     33\u001b[0m                     \u001b[1;32mbreak\u001b[0m\u001b[1;33m;\u001b[0m\u001b[1;33m\u001b[0m\u001b[1;33m\u001b[0m\u001b[0m\n\u001b[0;32m     34\u001b[0m                 \u001b[1;32melse\u001b[0m\u001b[1;33m:\u001b[0m\u001b[1;33m\u001b[0m\u001b[1;33m\u001b[0m\u001b[0m\n\u001b[1;32m---> 35\u001b[1;33m                     \u001b[0moccupied\u001b[0m \u001b[1;33m=\u001b[0m \u001b[0mnp\u001b[0m\u001b[1;33m.\u001b[0m\u001b[0mvstack\u001b[0m\u001b[1;33m(\u001b[0m \u001b[1;33m[\u001b[0m\u001b[0moccupied\u001b[0m\u001b[1;33m,\u001b[0m\u001b[0mdiags\u001b[0m\u001b[1;33m[\u001b[0m\u001b[0mi\u001b[0m\u001b[1;33m]\u001b[0m\u001b[1;33m[\u001b[0m\u001b[0mj\u001b[0m\u001b[1;33m]\u001b[0m\u001b[1;33m]\u001b[0m\u001b[1;33m)\u001b[0m\u001b[1;33m\u001b[0m\u001b[1;33m\u001b[0m\u001b[0m\n\u001b[0m\u001b[0;32m     36\u001b[0m         \u001b[1;32mif\u001b[0m \u001b[1;32mnot\u001b[0m\u001b[1;33m(\u001b[0m\u001b[0mconflict\u001b[0m\u001b[1;33m)\u001b[0m\u001b[1;33m:\u001b[0m\u001b[1;33m\u001b[0m\u001b[1;33m\u001b[0m\u001b[0m\n\u001b[0;32m     37\u001b[0m             \u001b[0msolutions\u001b[0m\u001b[1;33m.\u001b[0m\u001b[0mappend\u001b[0m\u001b[1;33m(\u001b[0m\u001b[0mcol\u001b[0m\u001b[1;33m)\u001b[0m\u001b[1;33m\u001b[0m\u001b[1;33m\u001b[0m\u001b[0m\n",
      "\u001b[1;32m<__array_function__ internals>\u001b[0m in \u001b[0;36mvstack\u001b[1;34m(*args, **kwargs)\u001b[0m\n",
      "\u001b[1;32m~\\AppData\\Local\\Continuum\\anaconda3\\lib\\site-packages\\numpy\\core\\shape_base.py\u001b[0m in \u001b[0;36mvstack\u001b[1;34m(tup)\u001b[0m\n\u001b[0;32m    280\u001b[0m     \u001b[1;32mif\u001b[0m \u001b[1;32mnot\u001b[0m \u001b[0misinstance\u001b[0m\u001b[1;33m(\u001b[0m\u001b[0marrs\u001b[0m\u001b[1;33m,\u001b[0m \u001b[0mlist\u001b[0m\u001b[1;33m)\u001b[0m\u001b[1;33m:\u001b[0m\u001b[1;33m\u001b[0m\u001b[1;33m\u001b[0m\u001b[0m\n\u001b[0;32m    281\u001b[0m         \u001b[0marrs\u001b[0m \u001b[1;33m=\u001b[0m \u001b[1;33m[\u001b[0m\u001b[0marrs\u001b[0m\u001b[1;33m]\u001b[0m\u001b[1;33m\u001b[0m\u001b[1;33m\u001b[0m\u001b[0m\n\u001b[1;32m--> 282\u001b[1;33m     \u001b[1;32mreturn\u001b[0m \u001b[0m_nx\u001b[0m\u001b[1;33m.\u001b[0m\u001b[0mconcatenate\u001b[0m\u001b[1;33m(\u001b[0m\u001b[0marrs\u001b[0m\u001b[1;33m,\u001b[0m \u001b[1;36m0\u001b[0m\u001b[1;33m)\u001b[0m\u001b[1;33m\u001b[0m\u001b[1;33m\u001b[0m\u001b[0m\n\u001b[0m\u001b[0;32m    283\u001b[0m \u001b[1;33m\u001b[0m\u001b[0m\n\u001b[0;32m    284\u001b[0m \u001b[1;33m\u001b[0m\u001b[0m\n",
      "\u001b[1;32m<__array_function__ internals>\u001b[0m in \u001b[0;36mconcatenate\u001b[1;34m(*args, **kwargs)\u001b[0m\n",
      "\u001b[1;31mKeyboardInterrupt\u001b[0m: "
     ]
    }
   ],
   "source": [
    "def group_solutions(solutions):\n",
    "    solution_groups = [calc_symmetrical(solutions[0])]\n",
    "    for solution in solutions:\n",
    "        exists = False\n",
    "        for group in solution_groups:\n",
    "            exists =  (group == np.array(solution)).all(axis=1).any()\n",
    "            if exists:\n",
    "                break\n",
    "        if not(exists):\n",
    "            solution_groups.append(calc_symmetrical(solution) )\n",
    "    return solution_groups\n",
    "\n",
    "\n",
    "\n",
    "solutions = find_n_queens_solutions(12)\n",
    "print(f\"{len(solutions)} :  Total Solutions\")\n",
    "\n",
    "\n",
    "solution_groups = group_solutions(solutions);\n",
    "\n",
    "unique, counts = np.unique([*map(lambda x: len(x), solution_groups)], return_counts=True)\n",
    "\n",
    "print(f\"{len(solution_groups)} :  Fundamental Solutions or Groups\")\n",
    "[print(f\"{K} groups with {N} solutions \") for N,K in zip(unique, counts)];\n"
   ]
  },
  {
   "cell_type": "code",
   "execution_count": 113,
   "metadata": {},
   "outputs": [
    {
     "name": "stdout",
     "output_type": "stream",
     "text": [
      "92\n"
     ]
    }
   ],
   "source": [
    "from itertools import permutations\n",
    "import numpy as np\n",
    "W  = 8\n",
    "\n",
    "def check_unique(x):\n",
    "    return len(x) == len(np.unique(x))\n",
    "x        = np.arange(W)\n",
    "permuts  = np.array([*permutations(range(W))], dtype=np.int8)\n",
    "d =  np.apply_along_axis(check_unique, 1, permuts-x) * np.apply_along_axis(check_unique, 1, permuts+x)\n",
    "print(sum(d))\n",
    "\n",
    "\n",
    "\n",
    "\n"
   ]
  },
  {
   "cell_type": "code",
   "execution_count": null,
   "metadata": {},
   "outputs": [],
   "source": [
    "from itertools import permutations\n",
    "import numpy as np\n",
    "W  = 12\n",
    "\n",
    "def check_unique(x):\n",
    "    return len(x) == len(np.unique(x))\n",
    "x        = np.arange(W)\n",
    "solutions=[]\n",
    "for permut in permutations(range(W)):\n",
    "    valid = np.prod(np.apply_along_axis(check_unique, 1, np.array([permut+x,permut-x])));\n",
    "    if valid:\n",
    "        solutions.append(permut)\n",
    "print('Total Solutions %5d'%len(solutions))        \n",
    "        \n",
    "\n",
    "\n"
   ]
  },
  {
   "cell_type": "code",
   "execution_count": 72,
   "metadata": {},
   "outputs": [
    {
     "name": "stdout",
     "output_type": "stream",
     "text": [
      "64 places for 1 queen\n",
      "63 places for 2 queen\n",
      "62 places for 3 queen\n",
      "61 places for 4 queen\n",
      "60 places for 5 queen\n",
      "59 places for 6 queen\n",
      "58 places for 7 queen\n",
      "57 places for 8 queen\n",
      "Total Amount of combinations 1,493,445,632\n"
     ]
    }
   ],
   "source": [
    "W = 8\n",
    "comb = [i for i in range(W**2-W+1,W**2+1)][::-1]\n",
    "for i,c in enumerate(comb):\n",
    "    print(f'{c} places for {i+1} queen')\n",
    "\n",
    "print(f'Total Amount of combinations {np.prod(comb)*(-1):,}')    \n"
   ]
  },
  {
   "cell_type": "markdown",
   "metadata": {},
   "source": [
    "Some obvious observation:\n",
    "* 2 quens can't share common row. It means that for K queens on K*K desk we must use each row.\n",
    "* The same true for columns, so have to use each column\n",
    "    \n",
    "    "
   ]
  },
  {
   "cell_type": "code",
   "execution_count": 82,
   "metadata": {},
   "outputs": [
    {
     "name": "stdout",
     "output_type": "stream",
     "text": [
      "Board size of  1x 1 , Rook combinations :          1 \n",
      "Board size of  2x 2 , Rook combinations :          2 \n",
      "Board size of  3x 3 , Rook combinations :          6 \n",
      "Board size of  4x 4 , Rook combinations :         24 \n",
      "Board size of  5x 5 , Rook combinations :        120 \n",
      "Board size of  6x 6 , Rook combinations :        720 \n",
      "Board size of  7x 7 , Rook combinations :      5,040 \n",
      "Board size of  8x 8 , Rook combinations :     40,320 \n",
      "Board size of  9x 9 , Rook combinations :    362,880 \n",
      "Board size of 10x10 , Rook combinations :  3,628,800 \n",
      "Board size of 11x11 , Rook combinations : 39,916,800 \n"
     ]
    }
   ],
   "source": [
    "from  math import factorial\n",
    "for i in range(1,12):\n",
    "    print(f'Board size of {i:2}x{i:2} , Rook combinations : {factorial(i):10,} ')"
   ]
  },
  {
   "cell_type": "code",
   "execution_count": 89,
   "metadata": {},
   "outputs": [
    {
     "data": {
      "image/png": "[encoded data removed]",
      "text/plain": [
       "<Figure size 720x288 with 4 Axes>"
      ]
     },
     "metadata": {
      "needs_background": "light"
     },
     "output_type": "display_data"
    }
   ],
   "source": [
    "W = 8\n",
    "desk_A = np.zeros([W,W],np.int8)\n",
    "desk_B = np.zeros([W,W],np.int8)\n",
    "\n",
    "for i in range(W):\n",
    "    for j in range(W):\n",
    "        desk_A[i,j] = i-j;\n",
    "        desk_B[i,j] = i+j;\n",
    "\n",
    "import seaborn as sns\n",
    "import matplotlib.pyplot as plt\n",
    "\n",
    "fig, (ax1, ax2) = plt.subplots(1,2, figsize=(10,4))\n",
    "sns.heatmap(desk_A, linewidth=1.5,annot=True, ax = ax1)\n",
    "sns.heatmap(desk_B, linewidth=1.5,annot=True, ax = ax2)\n",
    "ax1.set_title(' \\\\ Diagonals ( c = vert - hor)')\n",
    "ax2.set_title(' / Diagonals ( c = vert + hor )')\n",
    "plt.show()\n",
    "\n"
   ]
  },
  {
   "cell_type": "code",
   "execution_count": null,
   "metadata": {},
   "outputs": [],
   "source": []
  },
  {
   "cell_type": "markdown",
   "metadata": {},
   "source": [
    "Simple condition\n",
    "\n",
    "Each queen has two coordinates $X,Y$, defining horizontal and vertical coordinates\n",
    "* If Two Queens has the same $X - Y$ value, they stand on the same \"/\" diagonal\n",
    "* If Two Queens has the same $X + Y$ value, they stand on the same \"\\\" diagonal"
   ]
  },
  {
   "cell_type": "code",
   "execution_count": 63,
   "metadata": {},
   "outputs": [
    {
     "data": {
      "image/png": "[encoded data removed]",
      "text/plain": [
       "<Figure size 252x252 with 1 Axes>"
      ]
     },
     "metadata": {
      "needs_background": "light"
     },
     "output_type": "display_data"
    }
   ],
   "source": [
    "import numpy as np\n",
    "import seaborn as sns\n",
    "import itertools\n",
    "import matplotlib.pyplot as plt\n",
    "from matplotlib.colors import ListedColormap\n",
    "\n",
    "CS = {''.join(n):f for n,f in zip(list(itertools.product('wb', 'KQRBNP')),'♔C♖♗♘♙♚♛♜♝♞♟')}\n",
    "\n",
    "def get_starting_position():\n",
    "    chess_fig = np.full((8,8),' ')\n",
    "    first_line='RBNKQNBR'\n",
    "    chess_fig[0]  = [CS['b'+s] for s in first_line]\n",
    "    chess_fig[1]  = [CS['bP']]\n",
    "    chess_fig[-2] = [CS['wP']]\n",
    "    chess_fig[-1] = [CS['w'+s] for s in first_line]\n",
    "    return chess_fig\n",
    "def print_chess_board(pos):\n",
    "    pos\n",
    "    for r in pos:\n",
    "        print(' '.join(r))\n",
    "def sns_chess_board( pos ,ax=None):\n",
    "    desk = np.zeros(pos.shape,dtype=int)\n",
    "    desk[1::2,::2] = 1\n",
    "    desk[::2,1::2] = 1\n",
    "\n",
    "    return sns.heatmap(desk,\n",
    "            fmt=\"s\",\n",
    "            cbar=False,\n",
    "            square=True,\n",
    "            annot=pos,\n",
    "            cmap=ListedColormap(['#c99c4d','#875429']),\n",
    "            annot_kws={\"size\": 24},\n",
    "            ax = ax,\n",
    "            linewidths=0)\n",
    "        \n",
    "\n",
    "pos = get_starting_position();\n",
    "pos[0,0]=\"♛\"\n",
    "# print_chess_board(pos)\n",
    "# sns_chess_board(pos)\n",
    "\n",
    "\n",
    "def list_to_figures_board(v, x = None, fig_type = 'bQ', board_size=None,chess_fig=None):\n",
    "    if x is None:\n",
    "        x = np.arange(len(v))\n",
    "    \n",
    "    coord = np.vstack([x,v]).T\n",
    "    \n",
    "    if board_size is None: \n",
    "        board_size =np.max(coord)+1;\n",
    "    \n",
    "    if chess_fig is None: \n",
    "        chess_fig = np.full((board_size,board_size),' ')\n",
    "    \n",
    "    for c in coord:\n",
    "        chess_fig[c[0],c[1]] = CS[fig_type]\n",
    "    return chess_fig\n",
    "\n",
    "chess_fig = list_to_figures_board([0,2,3,1,1,1])\n",
    "chess_fig = list_to_figures_board([2,3,1,1,1,3],fig_type='wP',chess_fig=chess_fig)\n",
    "chess_fig = list_to_figures_board(v=[5],x=[5],  fig_type='bK',chess_fig=chess_fig)\n",
    "\n",
    "fig, ax = plt.subplots(figsize=(3.5,3.5))         # Sample figsize in inches\n",
    "ax =  sns_chess_board(chess_fig);\n"
   ]
  },
  {
   "cell_type": "code",
   "execution_count": 72,
   "metadata": {},
   "outputs": [
    {
     "name": "stdout",
     "output_type": "stream",
     "text": [
      "[<matplotlib.axes._subplots.AxesSubplot object at 0x000001F88E780D30>\n",
      " <matplotlib.axes._subplots.AxesSubplot object at 0x000001F88ED7C470>\n",
      " <matplotlib.axes._subplots.AxesSubplot object at 0x000001F88EDA0908>\n",
      " <matplotlib.axes._subplots.AxesSubplot object at 0x000001F88EDC9E80>]\n"
     ]
    },
    {
     "data": {
      "image/png": "[encoded data removed]",
      "text/plain": [
       "<Figure size 720x288 with 4 Axes>"
      ]
     },
     "metadata": {
      "needs_background": "light"
     },
     "output_type": "display_data"
    }
   ],
   "source": [
    "fig, ax = plt.subplots(1,4, figsize=(10,4))\n",
    "print(ax)\n",
    "sns_chess_board(list_to_figures_board([0,2,3,1,1,1],fig_type='wP'),ax[0]);\n",
    "sns_chess_board(list_to_figures_board([0,2,3,1,1,1],fig_type='wK'),ax[1]);\n",
    "sns_chess_board(list_to_figures_board([0,2,3,1,1,1],fig_type='wP'),ax[2]);\n",
    "sns_chess_board(list_to_figures_board([0,2,3,1,1,1],fig_type='bR'),ax[3]);\n"
   ]
  }
 ],
 "metadata": {
  "kernelspec": {
   "display_name": "Python 3",
   "language": "python",
   "name": "python3"
  },
  "language_info": {
   "codemirror_mode": {
    "name": "ipython",
    "version": 3
   },
   "file_extension": ".py",
   "mimetype": "text/x-python",
   "name": "python",
   "nbconvert_exporter": "python",
   "pygments_lexer": "ipython3",
   "version": "3.7.1"
  }
 },
 "nbformat": 4,
 "nbformat_minor": 2
}
