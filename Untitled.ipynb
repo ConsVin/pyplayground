{
 "cells": [
  {
   "cell_type": "markdown",
   "metadata": {},
   "source": [
    "# [Eight_queens_puzzle](https://en.wikipedia.org/wiki/Eight_queens_puzzle)\n",
    "\n",
    "\n",
    "> The eight queens puzzle is the problem of placing eight chess queens on an 8×8 chessboard so that no two queens threaten each other; thus, a solution requires that no two queens share the same row, column, or diagonal. The eight queens puzzle is an example of the more general n queens problem of placing n non-attacking queens on an n×n chessboard, for which solutions exist for all natural numbers n with the exception of n = 2 and n = 3.\n",
    "\n",
    "So, for given integer N, find all solutions.\n",
    "\n",
    "Let's denote solutions as a list of N pairs of numbers, denoting vertical and horizontal index of each queen.\n",
    "\n",
    "\n",
    "    "
   ]
  },
  {
   "cell_type": "code",
   "execution_count": 18,
   "metadata": {},
   "outputs": [
    {
     "name": "stdout",
     "output_type": "stream",
     "text": [
      "---------\n",
      "|. . Q .|\n",
      "|Q . . .|\n",
      "|. . . Q|\n",
      "|. Q . .|\n",
      "---------\n",
      "Solutions Index\n",
      "[[0 2]\n",
      " [1 0]\n",
      " [2 3]\n",
      " [3 1]]\n"
     ]
    }
   ],
   "source": [
    "import numpy as np\n",
    "def print_solution(sol,ax2=[]):\n",
    "    L = len(sol)\n",
    "    T = np.full((L,L),'.')\n",
    "    if ax2==[]:\n",
    "        ax2=np.arange(L)\n",
    "    for i,j in zip(ax2,sol):\n",
    "        T[i,j] = 'Q'\n",
    "    print('-'*(2*L+1))\n",
    "    [print( \"|\"+ ' '.join(r)+\"|\") for r in T];  \n",
    "    print('-'*(2*L+1))\n",
    "\n",
    "h = [0,1,2,3]    \n",
    "v = [2,0,3,1]    \n",
    "print_solution(v,h)\n",
    "\n",
    "solution = np.vstack([h,v]).T\n",
    "\n",
    "print('Solutions Index')\n",
    "print(solution)\n",
    "\n"
   ]
  },
  {
   "cell_type": "markdown",
   "metadata": {},
   "source": [
    "Let's define, how many combinations should be check on the bruteforce:\n",
    "\n",
    "* You have a desk size 8 by 8. How many cell you have to put the 1st queen? Literally any cell, so for 1st queen you have 64 cells\n",
    "* For the second you have all cells but one, because one is already occupied. I.e. 63\n",
    "\n",
    "So your result"
   ]
  },
  {
   "cell_type": "code",
   "execution_count": 23,
   "metadata": {},
   "outputs": [
    {
     "data": {
      "text/plain": [
       "'178,462,987,637,760'"
      ]
     },
     "execution_count": 23,
     "metadata": {},
     "output_type": "execute_result"
    }
   ],
   "source": [
    "f\"{64*63*62*61*60*59*58*57:,}\""
   ]
  }
 ],
 "metadata": {
  "kernelspec": {
   "display_name": "Python 3",
   "language": "python",
   "name": "python3"
  },
  "language_info": {
   "codemirror_mode": {
    "name": "ipython",
    "version": 3
   },
   "file_extension": ".py",
   "mimetype": "text/x-python",
   "name": "python",
   "nbconvert_exporter": "python",
   "pygments_lexer": "ipython3",
   "version": "3.7.1"
  }
 },
 "nbformat": 4,
 "nbformat_minor": 2
}
